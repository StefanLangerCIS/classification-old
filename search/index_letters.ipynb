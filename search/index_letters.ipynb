{
 "cells": [
  {
   "cell_type": "code",
   "execution_count": null,
   "metadata": {},
   "outputs": [],
   "source": [
    "import elasticsearch\n",
    "import glob\n",
    "import json\n",
    "\n",
    "\n",
    "#Path pattern for the json files to feed into index\n",
    "\n",
    "data_files = r\"../../../ltrs/letters/*/json/*.json\"\n",
    "#The index to create / feed\n",
    "index = \"letter_index\"\n",
    "\n",
    "\n",
    "#Check whether elasticsearch is running\n",
    "elastic = elasticsearch.Elasticsearch()\n",
    "if elastic.ping():\n",
    "    print(\"INFO: Elasticsearch is running\")\n",
    "else:\n",
    "    raise Exception(\"Elasticsearch is not running\")\n",
    "\n",
    "# Read the settings for the index\n",
    "with open(\"index_settings.json\",mode=\"r\",encoding=\"utf-8\") as index_settings:\n",
    "    settings = index_settings.read()\n",
    "\n",
    "# Create the index\n",
    "if elastic.indices.exists(index):\n",
    "    print(\"INFO: Deleting previous index {0}\".format(index))\n",
    "    elastic.indices.delete(index)\n",
    "elastic.indices.create(index, settings)\n",
    "print(\"INFO: Index {0} created sucessfully\".format(index))\n",
    "\n",
    "# Retrieve all letters\n",
    "letter_files = glob.glob(data_files)\n",
    "print(\"Found {0} letters in {1}\".format(len(letter_files), data_files))\n",
    "\n",
    "n_success = 0\n",
    "n_fail = 0\n",
    "for letter_file in letter_files:\n",
    "    with open(letter_file,mode=\"r\",encoding=\"utf-8\") as data_file:\n",
    "        content = data_file.read()\n",
    "    \n",
    "    # Send to elasticsearch for indexing\n",
    "    res_json = elastic.index(index=index, doc_type=\"_doc\", body=content)\n",
    "    result = None\n",
    "    if \"result\" in res_json:\n",
    "        result = res_json[\"result\"]\n",
    "    if result != 'created':\n",
    "        print(\"Indexing failed with results {0} for {1}\".format(result, file))\n",
    "        n_fail += 1\n",
    "    else:\n",
    "        n_success += 1\n",
    "    if n_success%500 == 0:\n",
    "        print(\"Indexing reached {0} documents\".format(n_success))\n",
    "\n",
    "print(\"Indexing completed. Successfully indexed: {0}. Failed: {1}\".format(n_success, n_fail))\n",
    "\n",
    "\n",
    "\n",
    "\n"
   ]
  },
  {
   "cell_type": "code",
   "execution_count": null,
   "metadata": {},
   "outputs": [],
   "source": []
  },
  {
   "cell_type": "code",
   "execution_count": null,
   "metadata": {
    "scrolled": true
   },
   "outputs": [],
   "source": [
    "import elasticsearch\n",
    "import glob\n",
    "import json\n",
    "\n",
    "bulk_commands = []\n",
    "for letter_file in letter_files:\n",
    "    with open(letter_file,mode=\"r\",encoding=\"utf-8\") as data_file:\n",
    "        content = json.loads(data_file.read())\n",
    "    bulk_commands.append(json.dumps({ \"index\" : { \"_index\" : index } }))\n",
    "    bulk_commands.append(json.dumps(content))\n",
    "\n",
    "# Send to elasticsearch for indexing\n",
    "res_json = elastic.bulk(bulk_commands)\n",
    "\n",
    "print(\"Indexing completed. Successfully indexed: {}, errors: {}\".format(len(bulk_commands)/2, res_json.get(\"errors\",\"unknown\")))"
   ]
  },
  {
   "cell_type": "code",
   "execution_count": null,
   "metadata": {},
   "outputs": [],
   "source": []
  },
  {
   "cell_type": "code",
   "execution_count": null,
   "metadata": {},
   "outputs": [],
   "source": []
  }
 ],
 "metadata": {
  "kernelspec": {
   "display_name": "Python 3 (ipykernel)",
   "language": "python",
   "name": "python3"
  },
  "language_info": {
   "codemirror_mode": {
    "name": "ipython",
    "version": 3
   },
   "file_extension": ".py",
   "mimetype": "text/x-python",
   "name": "python",
   "nbconvert_exporter": "python",
   "pygments_lexer": "ipython3",
   "version": "3.9.7"
  }
 },
 "nbformat": 4,
 "nbformat_minor": 2
}
